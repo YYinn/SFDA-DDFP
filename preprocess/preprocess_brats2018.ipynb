{
 "cells": [
  {
   "cell_type": "markdown",
   "metadata": {},
   "source": [
    "# Preprocess - BraTS 2018"
   ]
  },
  {
   "cell_type": "markdown",
   "metadata": {},
   "source": [
    "Follow https://github.com/icerain-alt/brats-unet"
   ]
  },
  {
   "cell_type": "code",
   "execution_count": null,
   "metadata": {},
   "outputs": [
    {
     "name": "stdout",
     "output_type": "stream",
     "text": [
      "Warning: Looks like you're using an outdated `kagglehub` version, please consider updating (latest version: 0.3.4)\n",
      "Downloading from https://www.kaggle.com/api/v1/datasets/download/harshitsinghai/miccai-brats2018-original-dataset?dataset_version_number=1...\n"
     ]
    },
    {
     "name": "stderr",
     "output_type": "stream",
     "text": [
      "100%|██████████| 2.81G/2.81G [02:25<00:00, 20.8MB/s]"
     ]
    },
    {
     "name": "stdout",
     "output_type": "stream",
     "text": [
      "Extracting model files...\n"
     ]
    },
    {
     "name": "stderr",
     "output_type": "stream",
     "text": [
      "\n"
     ]
    },
    {
     "name": "stdout",
     "output_type": "stream",
     "text": [
      "Path to dataset files: /home/yinn147/.cache/kagglehub/datasets/harshitsinghai/miccai-brats2018-original-dataset/versions/1\n"
     ]
    }
   ],
   "source": [
    "# import kagglehub\n",
    "\n",
    "# Download latest version\n",
    "# path = kagglehub.dataset_download(\"harshitsinghai/miccai-brats2018-original-dataset\")\n",
    "\n",
    "# print(\"Path to dataset files:\", path)"
   ]
  },
  {
   "cell_type": "code",
   "execution_count": null,
   "metadata": {},
   "outputs": [],
   "source": [
    "\n",
    "import h5py\n",
    "import os\n",
    "import numpy as np\n",
    "import SimpleITK as sitk\n",
    "from tqdm import tqdm\n",
    "import torch.nn.functional as F\n",
    "import torch\n",
    "import random"
   ]
  },
  {
   "cell_type": "code",
   "execution_count": 4,
   "metadata": {},
   "outputs": [
    {
     "name": "stdout",
     "output_type": "stream",
     "text": [
      "Random seed for this experiment is 42 !\n",
      "total :  75 train : 60 val : 15\n"
     ]
    }
   ],
   "source": [
    "## split\n",
    "def set_seed(seed):\n",
    "    torch.manual_seed(seed)\n",
    "    torch.cuda.manual_seed_all(seed)\n",
    "    np.random.seed(seed)\n",
    "    random.seed(seed)\n",
    "    torch.backends.cudnn.benchmark = False\n",
    "    torch.backends.cudnn.deterministic = True\n",
    "    print('Random seed for this experiment is {} !'.format(seed))\n",
    "set_seed(42)\n",
    "\n",
    "path = '/mnt/ExtData/Data/BraTS2018/MICCAI_BraTS_2018_Data_Training/LGG'\n",
    "files = os.listdir(path)\n",
    "files\n",
    "\n",
    "print('total : ', len(files), 'train :', int(len(files) * 0.8), 'val :', len(files) - int(len(files)* 0.8) )\n",
    "\n",
    "# randomly select 251 from subjects (non-repetition)\n",
    "random.shuffle(files)\n",
    "train_subjects = files[:int(len(files) * 0.8)]\n",
    "val_subjects = files[int(len(files) * 0.8):]\n",
    "\n",
    "\n",
    "with open('/mnt/ExtData/SFDA_DDFP/preprocess/train_brats2018.txt', 'w') as f:\n",
    "    for subject in train_subjects:\n",
    "        f.write(subject + '\\n')\n",
    "        \n",
    "with open('/mnt/ExtData/SFDA_DDFP/preprocess/val_brats2018.txt', 'w') as f:\n",
    "    for subject in val_subjects:\n",
    "        f.write(subject + '\\n')\n"
   ]
  },
  {
   "cell_type": "code",
   "execution_count": null,
   "metadata": {},
   "outputs": [
    {
     "name": "stderr",
     "output_type": "stream",
     "text": [
      "100%|██████████| 15/15 [00:18<00:00,  1.25s/it]\n",
      "  0%|          | 0/60 [00:00<?, ?it/s]"
     ]
    },
    {
     "name": "stdout",
     "output_type": "stream",
     "text": [
      "Finished\n"
     ]
    },
    {
     "name": "stderr",
     "output_type": "stream",
     "text": [
      "100%|██████████| 60/60 [01:53<00:00,  1.90s/it]\n"
     ]
    },
    {
     "name": "stdout",
     "output_type": "stream",
     "text": [
      "Finished\n"
     ]
    },
    {
     "name": "stderr",
     "output_type": "stream",
     "text": [
      "100%|██████████| 15/15 [00:38<00:00,  2.59s/it]"
     ]
    },
    {
     "name": "stdout",
     "output_type": "stream",
     "text": [
      "Finished\n"
     ]
    },
    {
     "name": "stderr",
     "output_type": "stream",
     "text": [
      "\n"
     ]
    }
   ],
   "source": [
    "# modalities = ('flair', 't1ce', 't1', 't2')\n",
    "\n",
    "def process_h5(path, out_path, modalities):\n",
    "    \"\"\" Save the data with dtype=float32.\n",
    "        z-score is used but keep the background with zero! \"\"\"\n",
    "    label = sitk.GetArrayFromImage(sitk.ReadImage(path + 'seg.nii.gz')).transpose(1,2,0)\n",
    "    # 4 x (H,W,D) -> (4,H,W,D) \n",
    "    # images = np.stack([sitk.GetArrayFromImage(sitk.ReadImage(path + modal + '.nii.gz')).transpose(1,2,0) for modal in modalities], 0)  # [240,240,155]\n",
    "    images = sitk.GetArrayFromImage(sitk.ReadImage(path + modalities + '.nii.gz')).transpose(1,2,0) \n",
    "\n",
    "    label = label.astype(np.int64)\n",
    "    images = images.astype(np.float32)\n",
    "    case_name = path.split('/')[-1]\n",
    "    \n",
    "    path = os.path.join(out_path, case_name)\n",
    "\n",
    "    images = (images - images.min()) / (images.max() - images.min()) #(240, 240, 155) \n",
    "\n",
    "    label[label==4] = 3\n",
    "\n",
    "    one_hot_label = np.array(F.one_hot(torch.tensor(label), num_classes=4)) # (240, 240, 155, 4)\n",
    "\n",
    "    for slice_i in range(images.shape[2]):\n",
    "        if len(np.unique(label[:, :, slice_i])) == 1:\n",
    "            continue\n",
    "        else:\n",
    "            ## visual\n",
    "            # import matplotlib.pyplot as plt\n",
    "            # plt.figure(figsize=(20, 15))\n",
    "            # plt.subplot(1, 5, 1)\n",
    "            # plt.imshow(images[:, :, slice_i], 'gray')\n",
    "            # for i in (0, 1, 2, 3):\n",
    "            #     plt.subplot(1, 5, i+2)\n",
    "            #     label_i = np.zeros_like(label[:, :, slice_i])\n",
    "            #     label_i[label[:, :, slice_i] == i] = 1\n",
    "            #     plt.imshow(label_i)\n",
    "            #     print(np.unique(label_i))\n",
    "            # break\n",
    "\n",
    "            data = np.concatenate((images[...,slice_i:slice_i+1], one_hot_label[...,slice_i, :]), axis=-1)\n",
    "            np.save(path + modalities + str(slice_i).zfill(4) + '.npy', data)\n",
    "\n",
    "\n",
    "def doit(dset):\n",
    "    root, out_path, modalities = dset['root'], dset['out'], dset['mod']\n",
    "    out_path = os.path.join(out_path, f'{modalities}_{phase}')\n",
    "    os.makedirs(out_path, exist_ok=True)\n",
    "\n",
    "    file_list = os.path.join(root, dset['flist'])\n",
    "    subjects = open(file_list).read().splitlines()\n",
    "    paths = [os.path.join(root, name, name + '_') for name in subjects]\n",
    "\n",
    "    for path in tqdm(paths):\n",
    "        process_h5(path, out_path, modalities)\n",
    "    print('Finished')\n",
    "\n",
    "\n",
    "# train\n",
    "phase = 'train' \n",
    "train_set = {\n",
    "        'mod': 'flair',\n",
    "        'root': '/mnt/ExtData/Data/BraTS2018/MICCAI_BraTS_2018_Data_Training/LGG', \n",
    "        'out': '/mnt/ExtData/Data/preprocess_brats2018/',  \n",
    "        'flist': f'/mnt/ExtData/SFDA_DDFP/preprocess/{phase}_brats2018.txt',  \n",
    "        }\n",
    "\n",
    "doit(train_set)\n",
    "\n",
    "phase = 'val' \n",
    "train_set = {\n",
    "        'mod': 'flair',\n",
    "        'root': '/mnt/ExtData/Data/BraTS2018/MICCAI_BraTS_2018_Data_Training/LGG', \n",
    "        'out': '/mnt/ExtData/Data/preprocess_brats2018/',  \n",
    "        'flist': f'/mnt/ExtData/SFDA_DDFP/preprocess/{phase}_brats2018.txt',  \n",
    "        }\n",
    "\n",
    "doit(train_set)\n",
    "\n",
    "phase = 'train' \n",
    "train_set = {\n",
    "        'mod': 't2',\n",
    "        'root': '/mnt/ExtData/Data/BraTS2018/MICCAI_BraTS_2018_Data_Training/LGG', \n",
    "        'out': '/mnt/ExtData/Data/preprocess_brats2018/',  \n",
    "        'flist': f'/mnt/ExtData/SFDA_DDFP/preprocess/{phase}_brats2018.txt',  \n",
    "        }\n",
    "\n",
    "doit(train_set)\n",
    "\n",
    "phase = 'val' \n",
    "train_set = {\n",
    "        'mod': 't2',\n",
    "        'root': '/mnt/ExtData/Data/BraTS2018/MICCAI_BraTS_2018_Data_Training/LGG', \n",
    "        'out': '/mnt/ExtData/Data/preprocess_brats2018/',  \n",
    "        'flist': f'/mnt/ExtData/SFDA_DDFP/preprocess/{phase}_brats2018.txt',  \n",
    "        }\n",
    "\n",
    "doit(train_set)"
   ]
  }
 ],
 "metadata": {
  "kernelspec": {
   "display_name": "sfda_new",
   "language": "python",
   "name": "python3"
  },
  "language_info": {
   "codemirror_mode": {
    "name": "ipython",
    "version": 3
   },
   "file_extension": ".py",
   "mimetype": "text/x-python",
   "name": "python",
   "nbconvert_exporter": "python",
   "pygments_lexer": "ipython3",
   "version": "3.8.17"
  }
 },
 "nbformat": 4,
 "nbformat_minor": 2
}
